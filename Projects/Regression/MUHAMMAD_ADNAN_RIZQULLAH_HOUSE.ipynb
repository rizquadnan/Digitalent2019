{
  "nbformat": 4,
  "nbformat_minor": 0,
  "metadata": {
    "colab": {
      "name": "MUHAMMAD_ADNAN_RIZQULLAH_HOUSE.ipynb",
      "version": "0.3.2",
      "provenance": [],
      "collapsed_sections": [],
      "toc_visible": true
    },
    "kernelspec": {
      "name": "python3",
      "display_name": "Python 3"
    }
  },
  "cells": [
    {
      "cell_type": "code",
      "metadata": {
        "id": "pQJ4Da7GSgCF",
        "colab_type": "code",
        "colab": {}
      },
      "source": [
        "import pandas as pd\n",
        "import numpy as np\n",
        "import pylab as pl\n",
        "import matplotlib.pyplot as plt\n",
        "%matplotlib inline"
      ],
      "execution_count": 0,
      "outputs": []
    },
    {
      "cell_type": "markdown",
      "metadata": {
        "id": "g9rB0pVO-b0H",
        "colab_type": "text"
      },
      "source": [
        "---\n",
        "# Load dataset"
      ]
    },
    {
      "cell_type": "code",
      "metadata": {
        "id": "7uKMkp8ISccY",
        "colab_type": "code",
        "colab": {
          "base_uri": "https://localhost:8080/",
          "height": 228
        },
        "outputId": "bed695a7-7525-42f7-d8d7-31411211f0ee"
      },
      "source": [
        "!wget -O kc_house_data.csv https://raw.githubusercontent.com/Jonasyao/Machine-Learning-Specialization-University-of-Washington-/master/Regression/Assignment_four/kc_house_data.csv"
      ],
      "execution_count": 115,
      "outputs": [
        {
          "output_type": "stream",
          "text": [
            "--2019-07-29 04:13:14--  https://raw.githubusercontent.com/Jonasyao/Machine-Learning-Specialization-University-of-Washington-/master/Regression/Assignment_four/kc_house_data.csv\n",
            "Resolving raw.githubusercontent.com (raw.githubusercontent.com)... 151.101.0.133, 151.101.64.133, 151.101.128.133, ...\n",
            "Connecting to raw.githubusercontent.com (raw.githubusercontent.com)|151.101.0.133|:443... connected.\n",
            "HTTP request sent, awaiting response... 200 OK\n",
            "Length: 368640 (360K) [text/plain]\n",
            "Saving to: ‘kc_house_data.csv’\n",
            "\n",
            "\rkc_house_data.csv     0%[                    ]       0  --.-KB/s               \rkc_house_data.csv   100%[===================>] 360.00K  --.-KB/s    in 0.05s   \n",
            "\n",
            "2019-07-29 04:13:15 (7.00 MB/s) - ‘kc_house_data.csv’ saved [368640/368640]\n",
            "\n"
          ],
          "name": "stdout"
        }
      ]
    },
    {
      "cell_type": "code",
      "metadata": {
        "id": "5HThjotETI-g",
        "colab_type": "code",
        "colab": {
          "base_uri": "https://localhost:8080/",
          "height": 222
        },
        "outputId": "7e3e152b-cbce-4386-b8cc-fa3ee5453836"
      },
      "source": [
        "df = pd.read_csv(\"kc_house_data.csv\")\n",
        "\n",
        "# take a look at the dataset\n",
        "df.head()"
      ],
      "execution_count": 116,
      "outputs": [
        {
          "output_type": "execute_result",
          "data": {
            "text/html": [
              "<div>\n",
              "<style scoped>\n",
              "    .dataframe tbody tr th:only-of-type {\n",
              "        vertical-align: middle;\n",
              "    }\n",
              "\n",
              "    .dataframe tbody tr th {\n",
              "        vertical-align: top;\n",
              "    }\n",
              "\n",
              "    .dataframe thead th {\n",
              "        text-align: right;\n",
              "    }\n",
              "</style>\n",
              "<table border=\"1\" class=\"dataframe\">\n",
              "  <thead>\n",
              "    <tr style=\"text-align: right;\">\n",
              "      <th></th>\n",
              "      <th>id</th>\n",
              "      <th>date</th>\n",
              "      <th>price</th>\n",
              "      <th>bedrooms</th>\n",
              "      <th>bathrooms</th>\n",
              "      <th>sqft_living</th>\n",
              "      <th>sqft_lot</th>\n",
              "      <th>floors</th>\n",
              "      <th>waterfront</th>\n",
              "      <th>view</th>\n",
              "      <th>condition</th>\n",
              "      <th>grade</th>\n",
              "      <th>sqft_above</th>\n",
              "      <th>sqft_basement</th>\n",
              "      <th>yr_built</th>\n",
              "      <th>yr_renovated</th>\n",
              "      <th>zipcode</th>\n",
              "      <th>lat</th>\n",
              "      <th>long</th>\n",
              "      <th>sqft_living15</th>\n",
              "      <th>sqft_lot15</th>\n",
              "    </tr>\n",
              "  </thead>\n",
              "  <tbody>\n",
              "    <tr>\n",
              "      <th>0</th>\n",
              "      <td>7129300520</td>\n",
              "      <td>20141013T000000</td>\n",
              "      <td>221900.0</td>\n",
              "      <td>3</td>\n",
              "      <td>1.00</td>\n",
              "      <td>1180</td>\n",
              "      <td>5650</td>\n",
              "      <td>1.0</td>\n",
              "      <td>0</td>\n",
              "      <td>0</td>\n",
              "      <td>3</td>\n",
              "      <td>7</td>\n",
              "      <td>1180</td>\n",
              "      <td>0</td>\n",
              "      <td>1955</td>\n",
              "      <td>0</td>\n",
              "      <td>98178</td>\n",
              "      <td>47.5112</td>\n",
              "      <td>-122.257</td>\n",
              "      <td>1340.0</td>\n",
              "      <td>5650.0</td>\n",
              "    </tr>\n",
              "    <tr>\n",
              "      <th>1</th>\n",
              "      <td>6414100192</td>\n",
              "      <td>20141209T000000</td>\n",
              "      <td>538000.0</td>\n",
              "      <td>3</td>\n",
              "      <td>2.25</td>\n",
              "      <td>2570</td>\n",
              "      <td>7242</td>\n",
              "      <td>2.0</td>\n",
              "      <td>0</td>\n",
              "      <td>0</td>\n",
              "      <td>3</td>\n",
              "      <td>7</td>\n",
              "      <td>2170</td>\n",
              "      <td>400</td>\n",
              "      <td>1951</td>\n",
              "      <td>1991</td>\n",
              "      <td>98125</td>\n",
              "      <td>47.7210</td>\n",
              "      <td>-122.319</td>\n",
              "      <td>1690.0</td>\n",
              "      <td>7639.0</td>\n",
              "    </tr>\n",
              "    <tr>\n",
              "      <th>2</th>\n",
              "      <td>5631500400</td>\n",
              "      <td>20150225T000000</td>\n",
              "      <td>180000.0</td>\n",
              "      <td>2</td>\n",
              "      <td>1.00</td>\n",
              "      <td>770</td>\n",
              "      <td>10000</td>\n",
              "      <td>1.0</td>\n",
              "      <td>0</td>\n",
              "      <td>0</td>\n",
              "      <td>3</td>\n",
              "      <td>6</td>\n",
              "      <td>770</td>\n",
              "      <td>0</td>\n",
              "      <td>1933</td>\n",
              "      <td>0</td>\n",
              "      <td>98028</td>\n",
              "      <td>47.7379</td>\n",
              "      <td>-122.233</td>\n",
              "      <td>2720.0</td>\n",
              "      <td>8062.0</td>\n",
              "    </tr>\n",
              "    <tr>\n",
              "      <th>3</th>\n",
              "      <td>2487200875</td>\n",
              "      <td>20141209T000000</td>\n",
              "      <td>604000.0</td>\n",
              "      <td>4</td>\n",
              "      <td>3.00</td>\n",
              "      <td>1960</td>\n",
              "      <td>5000</td>\n",
              "      <td>1.0</td>\n",
              "      <td>0</td>\n",
              "      <td>0</td>\n",
              "      <td>5</td>\n",
              "      <td>7</td>\n",
              "      <td>1050</td>\n",
              "      <td>910</td>\n",
              "      <td>1965</td>\n",
              "      <td>0</td>\n",
              "      <td>98136</td>\n",
              "      <td>47.5208</td>\n",
              "      <td>-122.393</td>\n",
              "      <td>1360.0</td>\n",
              "      <td>5000.0</td>\n",
              "    </tr>\n",
              "    <tr>\n",
              "      <th>4</th>\n",
              "      <td>1954400510</td>\n",
              "      <td>20150218T000000</td>\n",
              "      <td>510000.0</td>\n",
              "      <td>3</td>\n",
              "      <td>2.00</td>\n",
              "      <td>1680</td>\n",
              "      <td>8080</td>\n",
              "      <td>1.0</td>\n",
              "      <td>0</td>\n",
              "      <td>0</td>\n",
              "      <td>3</td>\n",
              "      <td>8</td>\n",
              "      <td>1680</td>\n",
              "      <td>0</td>\n",
              "      <td>1987</td>\n",
              "      <td>0</td>\n",
              "      <td>98074</td>\n",
              "      <td>47.6168</td>\n",
              "      <td>-122.045</td>\n",
              "      <td>1800.0</td>\n",
              "      <td>7503.0</td>\n",
              "    </tr>\n",
              "  </tbody>\n",
              "</table>\n",
              "</div>"
            ],
            "text/plain": [
              "           id             date     price  ...     long  sqft_living15  sqft_lot15\n",
              "0  7129300520  20141013T000000  221900.0  ... -122.257         1340.0      5650.0\n",
              "1  6414100192  20141209T000000  538000.0  ... -122.319         1690.0      7639.0\n",
              "2  5631500400  20150225T000000  180000.0  ... -122.233         2720.0      8062.0\n",
              "3  2487200875  20141209T000000  604000.0  ... -122.393         1360.0      5000.0\n",
              "4  1954400510  20150218T000000  510000.0  ... -122.045         1800.0      7503.0\n",
              "\n",
              "[5 rows x 21 columns]"
            ]
          },
          "metadata": {
            "tags": []
          },
          "execution_count": 116
        }
      ]
    },
    {
      "cell_type": "markdown",
      "metadata": {
        "id": "it3V_nxctReX",
        "colab_type": "text"
      },
      "source": [
        "# Data Exploratory Analysis and Preprocessing"
      ]
    },
    {
      "cell_type": "markdown",
      "metadata": {
        "id": "6dINzFSmtfar",
        "colab_type": "text"
      },
      "source": [
        "## Statistical Information"
      ]
    },
    {
      "cell_type": "code",
      "metadata": {
        "id": "faNGevu_t9YC",
        "colab_type": "code",
        "colab": {
          "base_uri": "https://localhost:8080/",
          "height": 468
        },
        "outputId": "00cf5b35-a858-4699-8815-5d20a507316f"
      },
      "source": [
        "df.info()"
      ],
      "execution_count": 117,
      "outputs": [
        {
          "output_type": "stream",
          "text": [
            "<class 'pandas.core.frame.DataFrame'>\n",
            "RangeIndex: 3165 entries, 0 to 3164\n",
            "Data columns (total 21 columns):\n",
            "id               3165 non-null int64\n",
            "date             3165 non-null object\n",
            "price            3165 non-null float64\n",
            "bedrooms         3165 non-null int64\n",
            "bathrooms        3165 non-null float64\n",
            "sqft_living      3165 non-null int64\n",
            "sqft_lot         3165 non-null int64\n",
            "floors           3165 non-null float64\n",
            "waterfront       3165 non-null int64\n",
            "view             3165 non-null int64\n",
            "condition        3165 non-null int64\n",
            "grade            3165 non-null int64\n",
            "sqft_above       3165 non-null int64\n",
            "sqft_basement    3165 non-null int64\n",
            "yr_built         3165 non-null int64\n",
            "yr_renovated     3165 non-null int64\n",
            "zipcode          3165 non-null int64\n",
            "lat              3165 non-null float64\n",
            "long             3165 non-null float64\n",
            "sqft_living15    3164 non-null float64\n",
            "sqft_lot15       3164 non-null float64\n",
            "dtypes: float64(7), int64(13), object(1)\n",
            "memory usage: 519.3+ KB\n"
          ],
          "name": "stdout"
        }
      ]
    },
    {
      "cell_type": "code",
      "metadata": {
        "id": "i9u_Iplbt_Zz",
        "colab_type": "code",
        "colab": {
          "base_uri": "https://localhost:8080/",
          "height": 314
        },
        "outputId": "c50221f5-6631-423a-8591-eb369e9387c4"
      },
      "source": [
        "df.describe()"
      ],
      "execution_count": 118,
      "outputs": [
        {
          "output_type": "execute_result",
          "data": {
            "text/html": [
              "<div>\n",
              "<style scoped>\n",
              "    .dataframe tbody tr th:only-of-type {\n",
              "        vertical-align: middle;\n",
              "    }\n",
              "\n",
              "    .dataframe tbody tr th {\n",
              "        vertical-align: top;\n",
              "    }\n",
              "\n",
              "    .dataframe thead th {\n",
              "        text-align: right;\n",
              "    }\n",
              "</style>\n",
              "<table border=\"1\" class=\"dataframe\">\n",
              "  <thead>\n",
              "    <tr style=\"text-align: right;\">\n",
              "      <th></th>\n",
              "      <th>id</th>\n",
              "      <th>price</th>\n",
              "      <th>bedrooms</th>\n",
              "      <th>bathrooms</th>\n",
              "      <th>sqft_living</th>\n",
              "      <th>sqft_lot</th>\n",
              "      <th>floors</th>\n",
              "      <th>waterfront</th>\n",
              "      <th>view</th>\n",
              "      <th>condition</th>\n",
              "      <th>grade</th>\n",
              "      <th>sqft_above</th>\n",
              "      <th>sqft_basement</th>\n",
              "      <th>yr_built</th>\n",
              "      <th>yr_renovated</th>\n",
              "      <th>zipcode</th>\n",
              "      <th>lat</th>\n",
              "      <th>long</th>\n",
              "      <th>sqft_living15</th>\n",
              "      <th>sqft_lot15</th>\n",
              "    </tr>\n",
              "  </thead>\n",
              "  <tbody>\n",
              "    <tr>\n",
              "      <th>count</th>\n",
              "      <td>3.165000e+03</td>\n",
              "      <td>3.165000e+03</td>\n",
              "      <td>3165.000000</td>\n",
              "      <td>3165.000000</td>\n",
              "      <td>3165.000000</td>\n",
              "      <td>3.165000e+03</td>\n",
              "      <td>3165.000000</td>\n",
              "      <td>3165.000000</td>\n",
              "      <td>3165.000000</td>\n",
              "      <td>3165.000000</td>\n",
              "      <td>3165.000000</td>\n",
              "      <td>3165.000000</td>\n",
              "      <td>3165.000000</td>\n",
              "      <td>3165.000000</td>\n",
              "      <td>3165.000000</td>\n",
              "      <td>3165.000000</td>\n",
              "      <td>3165.000000</td>\n",
              "      <td>3165.000000</td>\n",
              "      <td>3164.000000</td>\n",
              "      <td>3164.000000</td>\n",
              "    </tr>\n",
              "    <tr>\n",
              "      <th>mean</th>\n",
              "      <td>4.645675e+09</td>\n",
              "      <td>5.354183e+05</td>\n",
              "      <td>3.381359</td>\n",
              "      <td>2.071564</td>\n",
              "      <td>2070.030964</td>\n",
              "      <td>1.524746e+04</td>\n",
              "      <td>1.434755</td>\n",
              "      <td>0.009795</td>\n",
              "      <td>0.244234</td>\n",
              "      <td>3.459084</td>\n",
              "      <td>7.615482</td>\n",
              "      <td>1761.024329</td>\n",
              "      <td>309.006635</td>\n",
              "      <td>1967.480885</td>\n",
              "      <td>94.638863</td>\n",
              "      <td>98077.137757</td>\n",
              "      <td>47.557908</td>\n",
              "      <td>-122.212364</td>\n",
              "      <td>1982.544564</td>\n",
              "      <td>13176.302465</td>\n",
              "    </tr>\n",
              "    <tr>\n",
              "      <th>std</th>\n",
              "      <td>2.853857e+09</td>\n",
              "      <td>3.808415e+05</td>\n",
              "      <td>0.895398</td>\n",
              "      <td>0.768327</td>\n",
              "      <td>920.106459</td>\n",
              "      <td>4.253820e+04</td>\n",
              "      <td>0.507771</td>\n",
              "      <td>0.098498</td>\n",
              "      <td>0.776188</td>\n",
              "      <td>0.682533</td>\n",
              "      <td>1.166191</td>\n",
              "      <td>815.906643</td>\n",
              "      <td>459.089397</td>\n",
              "      <td>28.094781</td>\n",
              "      <td>424.375685</td>\n",
              "      <td>54.169012</td>\n",
              "      <td>0.140785</td>\n",
              "      <td>0.139564</td>\n",
              "      <td>686.256670</td>\n",
              "      <td>25413.180755</td>\n",
              "    </tr>\n",
              "    <tr>\n",
              "      <th>min</th>\n",
              "      <td>1.000102e+06</td>\n",
              "      <td>7.500000e+04</td>\n",
              "      <td>0.000000</td>\n",
              "      <td>0.000000</td>\n",
              "      <td>380.000000</td>\n",
              "      <td>6.490000e+02</td>\n",
              "      <td>1.000000</td>\n",
              "      <td>0.000000</td>\n",
              "      <td>0.000000</td>\n",
              "      <td>1.000000</td>\n",
              "      <td>3.000000</td>\n",
              "      <td>380.000000</td>\n",
              "      <td>0.000000</td>\n",
              "      <td>1900.000000</td>\n",
              "      <td>0.000000</td>\n",
              "      <td>98001.000000</td>\n",
              "      <td>47.177500</td>\n",
              "      <td>-122.514000</td>\n",
              "      <td>620.000000</td>\n",
              "      <td>660.000000</td>\n",
              "    </tr>\n",
              "    <tr>\n",
              "      <th>25%</th>\n",
              "      <td>2.200500e+09</td>\n",
              "      <td>3.150000e+05</td>\n",
              "      <td>3.000000</td>\n",
              "      <td>1.500000</td>\n",
              "      <td>1430.000000</td>\n",
              "      <td>5.455000e+03</td>\n",
              "      <td>1.000000</td>\n",
              "      <td>0.000000</td>\n",
              "      <td>0.000000</td>\n",
              "      <td>3.000000</td>\n",
              "      <td>7.000000</td>\n",
              "      <td>1190.000000</td>\n",
              "      <td>0.000000</td>\n",
              "      <td>1950.000000</td>\n",
              "      <td>0.000000</td>\n",
              "      <td>98032.000000</td>\n",
              "      <td>47.459800</td>\n",
              "      <td>-122.324000</td>\n",
              "      <td>1480.000000</td>\n",
              "      <td>5429.500000</td>\n",
              "    </tr>\n",
              "    <tr>\n",
              "      <th>50%</th>\n",
              "      <td>4.027701e+09</td>\n",
              "      <td>4.450000e+05</td>\n",
              "      <td>3.000000</td>\n",
              "      <td>2.000000</td>\n",
              "      <td>1910.000000</td>\n",
              "      <td>8.000000e+03</td>\n",
              "      <td>1.000000</td>\n",
              "      <td>0.000000</td>\n",
              "      <td>0.000000</td>\n",
              "      <td>3.000000</td>\n",
              "      <td>7.000000</td>\n",
              "      <td>1540.000000</td>\n",
              "      <td>0.000000</td>\n",
              "      <td>1969.000000</td>\n",
              "      <td>0.000000</td>\n",
              "      <td>98059.000000</td>\n",
              "      <td>47.572600</td>\n",
              "      <td>-122.226000</td>\n",
              "      <td>1830.000000</td>\n",
              "      <td>7873.000000</td>\n",
              "    </tr>\n",
              "    <tr>\n",
              "      <th>75%</th>\n",
              "      <td>7.355700e+09</td>\n",
              "      <td>6.400000e+05</td>\n",
              "      <td>4.000000</td>\n",
              "      <td>2.500000</td>\n",
              "      <td>2500.000000</td>\n",
              "      <td>1.122000e+04</td>\n",
              "      <td>2.000000</td>\n",
              "      <td>0.000000</td>\n",
              "      <td>0.000000</td>\n",
              "      <td>4.000000</td>\n",
              "      <td>8.000000</td>\n",
              "      <td>2150.000000</td>\n",
              "      <td>600.000000</td>\n",
              "      <td>1990.000000</td>\n",
              "      <td>0.000000</td>\n",
              "      <td>98117.000000</td>\n",
              "      <td>47.680400</td>\n",
              "      <td>-122.124000</td>\n",
              "      <td>2360.000000</td>\n",
              "      <td>10408.250000</td>\n",
              "    </tr>\n",
              "    <tr>\n",
              "      <th>max</th>\n",
              "      <td>9.839301e+09</td>\n",
              "      <td>5.350000e+06</td>\n",
              "      <td>8.000000</td>\n",
              "      <td>6.000000</td>\n",
              "      <td>8010.000000</td>\n",
              "      <td>1.651359e+06</td>\n",
              "      <td>3.500000</td>\n",
              "      <td>1.000000</td>\n",
              "      <td>4.000000</td>\n",
              "      <td>5.000000</td>\n",
              "      <td>12.000000</td>\n",
              "      <td>6720.000000</td>\n",
              "      <td>2620.000000</td>\n",
              "      <td>2015.000000</td>\n",
              "      <td>2015.000000</td>\n",
              "      <td>98199.000000</td>\n",
              "      <td>47.777600</td>\n",
              "      <td>-121.315000</td>\n",
              "      <td>5790.000000</td>\n",
              "      <td>425581.000000</td>\n",
              "    </tr>\n",
              "  </tbody>\n",
              "</table>\n",
              "</div>"
            ],
            "text/plain": [
              "                 id         price  ...  sqft_living15     sqft_lot15\n",
              "count  3.165000e+03  3.165000e+03  ...    3164.000000    3164.000000\n",
              "mean   4.645675e+09  5.354183e+05  ...    1982.544564   13176.302465\n",
              "std    2.853857e+09  3.808415e+05  ...     686.256670   25413.180755\n",
              "min    1.000102e+06  7.500000e+04  ...     620.000000     660.000000\n",
              "25%    2.200500e+09  3.150000e+05  ...    1480.000000    5429.500000\n",
              "50%    4.027701e+09  4.450000e+05  ...    1830.000000    7873.000000\n",
              "75%    7.355700e+09  6.400000e+05  ...    2360.000000   10408.250000\n",
              "max    9.839301e+09  5.350000e+06  ...    5790.000000  425581.000000\n",
              "\n",
              "[8 rows x 20 columns]"
            ]
          },
          "metadata": {
            "tags": []
          },
          "execution_count": 118
        }
      ]
    },
    {
      "cell_type": "code",
      "metadata": {
        "id": "dj83Mp4yuCWZ",
        "colab_type": "code",
        "colab": {
          "base_uri": "https://localhost:8080/",
          "height": 399
        },
        "outputId": "34ee3915-3103-4395-9303-0793f31343f2"
      },
      "source": [
        "df.isnull().sum()"
      ],
      "execution_count": 119,
      "outputs": [
        {
          "output_type": "execute_result",
          "data": {
            "text/plain": [
              "id               0\n",
              "date             0\n",
              "price            0\n",
              "bedrooms         0\n",
              "bathrooms        0\n",
              "sqft_living      0\n",
              "sqft_lot         0\n",
              "floors           0\n",
              "waterfront       0\n",
              "view             0\n",
              "condition        0\n",
              "grade            0\n",
              "sqft_above       0\n",
              "sqft_basement    0\n",
              "yr_built         0\n",
              "yr_renovated     0\n",
              "zipcode          0\n",
              "lat              0\n",
              "long             0\n",
              "sqft_living15    1\n",
              "sqft_lot15       1\n",
              "dtype: int64"
            ]
          },
          "metadata": {
            "tags": []
          },
          "execution_count": 119
        }
      ]
    },
    {
      "cell_type": "code",
      "metadata": {
        "id": "QuL2zpq-wzDV",
        "colab_type": "code",
        "colab": {
          "base_uri": "https://localhost:8080/",
          "height": 222
        },
        "outputId": "cd3ee867-a5d6-44ad-b6b3-c82f5cff3ed1"
      },
      "source": [
        "df.head()"
      ],
      "execution_count": 120,
      "outputs": [
        {
          "output_type": "execute_result",
          "data": {
            "text/html": [
              "<div>\n",
              "<style scoped>\n",
              "    .dataframe tbody tr th:only-of-type {\n",
              "        vertical-align: middle;\n",
              "    }\n",
              "\n",
              "    .dataframe tbody tr th {\n",
              "        vertical-align: top;\n",
              "    }\n",
              "\n",
              "    .dataframe thead th {\n",
              "        text-align: right;\n",
              "    }\n",
              "</style>\n",
              "<table border=\"1\" class=\"dataframe\">\n",
              "  <thead>\n",
              "    <tr style=\"text-align: right;\">\n",
              "      <th></th>\n",
              "      <th>id</th>\n",
              "      <th>date</th>\n",
              "      <th>price</th>\n",
              "      <th>bedrooms</th>\n",
              "      <th>bathrooms</th>\n",
              "      <th>sqft_living</th>\n",
              "      <th>sqft_lot</th>\n",
              "      <th>floors</th>\n",
              "      <th>waterfront</th>\n",
              "      <th>view</th>\n",
              "      <th>condition</th>\n",
              "      <th>grade</th>\n",
              "      <th>sqft_above</th>\n",
              "      <th>sqft_basement</th>\n",
              "      <th>yr_built</th>\n",
              "      <th>yr_renovated</th>\n",
              "      <th>zipcode</th>\n",
              "      <th>lat</th>\n",
              "      <th>long</th>\n",
              "      <th>sqft_living15</th>\n",
              "      <th>sqft_lot15</th>\n",
              "    </tr>\n",
              "  </thead>\n",
              "  <tbody>\n",
              "    <tr>\n",
              "      <th>0</th>\n",
              "      <td>7129300520</td>\n",
              "      <td>20141013T000000</td>\n",
              "      <td>221900.0</td>\n",
              "      <td>3</td>\n",
              "      <td>1.00</td>\n",
              "      <td>1180</td>\n",
              "      <td>5650</td>\n",
              "      <td>1.0</td>\n",
              "      <td>0</td>\n",
              "      <td>0</td>\n",
              "      <td>3</td>\n",
              "      <td>7</td>\n",
              "      <td>1180</td>\n",
              "      <td>0</td>\n",
              "      <td>1955</td>\n",
              "      <td>0</td>\n",
              "      <td>98178</td>\n",
              "      <td>47.5112</td>\n",
              "      <td>-122.257</td>\n",
              "      <td>1340.0</td>\n",
              "      <td>5650.0</td>\n",
              "    </tr>\n",
              "    <tr>\n",
              "      <th>1</th>\n",
              "      <td>6414100192</td>\n",
              "      <td>20141209T000000</td>\n",
              "      <td>538000.0</td>\n",
              "      <td>3</td>\n",
              "      <td>2.25</td>\n",
              "      <td>2570</td>\n",
              "      <td>7242</td>\n",
              "      <td>2.0</td>\n",
              "      <td>0</td>\n",
              "      <td>0</td>\n",
              "      <td>3</td>\n",
              "      <td>7</td>\n",
              "      <td>2170</td>\n",
              "      <td>400</td>\n",
              "      <td>1951</td>\n",
              "      <td>1991</td>\n",
              "      <td>98125</td>\n",
              "      <td>47.7210</td>\n",
              "      <td>-122.319</td>\n",
              "      <td>1690.0</td>\n",
              "      <td>7639.0</td>\n",
              "    </tr>\n",
              "    <tr>\n",
              "      <th>2</th>\n",
              "      <td>5631500400</td>\n",
              "      <td>20150225T000000</td>\n",
              "      <td>180000.0</td>\n",
              "      <td>2</td>\n",
              "      <td>1.00</td>\n",
              "      <td>770</td>\n",
              "      <td>10000</td>\n",
              "      <td>1.0</td>\n",
              "      <td>0</td>\n",
              "      <td>0</td>\n",
              "      <td>3</td>\n",
              "      <td>6</td>\n",
              "      <td>770</td>\n",
              "      <td>0</td>\n",
              "      <td>1933</td>\n",
              "      <td>0</td>\n",
              "      <td>98028</td>\n",
              "      <td>47.7379</td>\n",
              "      <td>-122.233</td>\n",
              "      <td>2720.0</td>\n",
              "      <td>8062.0</td>\n",
              "    </tr>\n",
              "    <tr>\n",
              "      <th>3</th>\n",
              "      <td>2487200875</td>\n",
              "      <td>20141209T000000</td>\n",
              "      <td>604000.0</td>\n",
              "      <td>4</td>\n",
              "      <td>3.00</td>\n",
              "      <td>1960</td>\n",
              "      <td>5000</td>\n",
              "      <td>1.0</td>\n",
              "      <td>0</td>\n",
              "      <td>0</td>\n",
              "      <td>5</td>\n",
              "      <td>7</td>\n",
              "      <td>1050</td>\n",
              "      <td>910</td>\n",
              "      <td>1965</td>\n",
              "      <td>0</td>\n",
              "      <td>98136</td>\n",
              "      <td>47.5208</td>\n",
              "      <td>-122.393</td>\n",
              "      <td>1360.0</td>\n",
              "      <td>5000.0</td>\n",
              "    </tr>\n",
              "    <tr>\n",
              "      <th>4</th>\n",
              "      <td>1954400510</td>\n",
              "      <td>20150218T000000</td>\n",
              "      <td>510000.0</td>\n",
              "      <td>3</td>\n",
              "      <td>2.00</td>\n",
              "      <td>1680</td>\n",
              "      <td>8080</td>\n",
              "      <td>1.0</td>\n",
              "      <td>0</td>\n",
              "      <td>0</td>\n",
              "      <td>3</td>\n",
              "      <td>8</td>\n",
              "      <td>1680</td>\n",
              "      <td>0</td>\n",
              "      <td>1987</td>\n",
              "      <td>0</td>\n",
              "      <td>98074</td>\n",
              "      <td>47.6168</td>\n",
              "      <td>-122.045</td>\n",
              "      <td>1800.0</td>\n",
              "      <td>7503.0</td>\n",
              "    </tr>\n",
              "  </tbody>\n",
              "</table>\n",
              "</div>"
            ],
            "text/plain": [
              "           id             date     price  ...     long  sqft_living15  sqft_lot15\n",
              "0  7129300520  20141013T000000  221900.0  ... -122.257         1340.0      5650.0\n",
              "1  6414100192  20141209T000000  538000.0  ... -122.319         1690.0      7639.0\n",
              "2  5631500400  20150225T000000  180000.0  ... -122.233         2720.0      8062.0\n",
              "3  2487200875  20141209T000000  604000.0  ... -122.393         1360.0      5000.0\n",
              "4  1954400510  20150218T000000  510000.0  ... -122.045         1800.0      7503.0\n",
              "\n",
              "[5 rows x 21 columns]"
            ]
          },
          "metadata": {
            "tags": []
          },
          "execution_count": 120
        }
      ]
    },
    {
      "cell_type": "markdown",
      "metadata": {
        "id": "9lxUpD6Ntlhj",
        "colab_type": "text"
      },
      "source": [
        "## Remove unneeded features"
      ]
    },
    {
      "cell_type": "markdown",
      "metadata": {
        "id": "TNFctsFZuXJd",
        "colab_type": "text"
      },
      "source": [
        "The following features will be removed because of its coressponding reasons\n",
        "\n",
        "1. lat and long =  Both are redundant with zipcode\n",
        "2. Id = Redundand\n",
        "3. sqft_living and sqft_lot = Both are already better represented with sqft_living15 and sqft_lot15\n",
        "4. Date = Hard to manage\n",
        "5. sqft_above and sqft_basement = Both are already suitably representated by sqft_living15\n"
      ]
    },
    {
      "cell_type": "code",
      "metadata": {
        "id": "in_gZk2AuWRV",
        "colab_type": "code",
        "colab": {
          "base_uri": "https://localhost:8080/",
          "height": 130
        },
        "outputId": "b01b6f6f-f61b-402d-f194-5da9834b0f9b"
      },
      "source": [
        "df.drop(columns=[\"lat\", \"long\", \"id\", \"sqft_living\", \"sqft_lot\", \"sqft_above\", \"sqft_basement\", \"date\"], inplace=True)\n",
        "df.head(2)"
      ],
      "execution_count": 121,
      "outputs": [
        {
          "output_type": "execute_result",
          "data": {
            "text/html": [
              "<div>\n",
              "<style scoped>\n",
              "    .dataframe tbody tr th:only-of-type {\n",
              "        vertical-align: middle;\n",
              "    }\n",
              "\n",
              "    .dataframe tbody tr th {\n",
              "        vertical-align: top;\n",
              "    }\n",
              "\n",
              "    .dataframe thead th {\n",
              "        text-align: right;\n",
              "    }\n",
              "</style>\n",
              "<table border=\"1\" class=\"dataframe\">\n",
              "  <thead>\n",
              "    <tr style=\"text-align: right;\">\n",
              "      <th></th>\n",
              "      <th>price</th>\n",
              "      <th>bedrooms</th>\n",
              "      <th>bathrooms</th>\n",
              "      <th>floors</th>\n",
              "      <th>waterfront</th>\n",
              "      <th>view</th>\n",
              "      <th>condition</th>\n",
              "      <th>grade</th>\n",
              "      <th>yr_built</th>\n",
              "      <th>yr_renovated</th>\n",
              "      <th>zipcode</th>\n",
              "      <th>sqft_living15</th>\n",
              "      <th>sqft_lot15</th>\n",
              "    </tr>\n",
              "  </thead>\n",
              "  <tbody>\n",
              "    <tr>\n",
              "      <th>0</th>\n",
              "      <td>221900.0</td>\n",
              "      <td>3</td>\n",
              "      <td>1.00</td>\n",
              "      <td>1.0</td>\n",
              "      <td>0</td>\n",
              "      <td>0</td>\n",
              "      <td>3</td>\n",
              "      <td>7</td>\n",
              "      <td>1955</td>\n",
              "      <td>0</td>\n",
              "      <td>98178</td>\n",
              "      <td>1340.0</td>\n",
              "      <td>5650.0</td>\n",
              "    </tr>\n",
              "    <tr>\n",
              "      <th>1</th>\n",
              "      <td>538000.0</td>\n",
              "      <td>3</td>\n",
              "      <td>2.25</td>\n",
              "      <td>2.0</td>\n",
              "      <td>0</td>\n",
              "      <td>0</td>\n",
              "      <td>3</td>\n",
              "      <td>7</td>\n",
              "      <td>1951</td>\n",
              "      <td>1991</td>\n",
              "      <td>98125</td>\n",
              "      <td>1690.0</td>\n",
              "      <td>7639.0</td>\n",
              "    </tr>\n",
              "  </tbody>\n",
              "</table>\n",
              "</div>"
            ],
            "text/plain": [
              "      price  bedrooms  bathrooms  ...  zipcode  sqft_living15  sqft_lot15\n",
              "0  221900.0         3       1.00  ...    98178         1340.0      5650.0\n",
              "1  538000.0         3       2.25  ...    98125         1690.0      7639.0\n",
              "\n",
              "[2 rows x 13 columns]"
            ]
          },
          "metadata": {
            "tags": []
          },
          "execution_count": 121
        }
      ]
    },
    {
      "cell_type": "markdown",
      "metadata": {
        "id": "Q__nrEg0tppU",
        "colab_type": "text"
      },
      "source": [
        "## Remove rows that contain null values"
      ]
    },
    {
      "cell_type": "markdown",
      "metadata": {
        "id": "PwcArtskxGlj",
        "colab_type": "text"
      },
      "source": [
        "Remove rows that contains null values"
      ]
    },
    {
      "cell_type": "code",
      "metadata": {
        "id": "qdlw-cBDw_dl",
        "colab_type": "code",
        "colab": {
          "base_uri": "https://localhost:8080/",
          "height": 52
        },
        "outputId": "9a7596a8-8579-48cf-e041-461be44f0c30"
      },
      "source": [
        "# Before removal\n",
        "print(df.shape)\n",
        "\n",
        "df.dropna(axis=0, inplace=True)\n",
        "\n",
        "# After removal\n",
        "print(df.shape)"
      ],
      "execution_count": 122,
      "outputs": [
        {
          "output_type": "stream",
          "text": [
            "(3165, 13)\n",
            "(3164, 13)\n"
          ],
          "name": "stdout"
        }
      ]
    },
    {
      "cell_type": "markdown",
      "metadata": {
        "id": "h-_xYhp1ts6q",
        "colab_type": "text"
      },
      "source": [
        "## Gainning insight about numeric features"
      ]
    },
    {
      "cell_type": "markdown",
      "metadata": {
        "id": "lhAHUEK3xe_E",
        "colab_type": "text"
      },
      "source": [
        "Plotting histogram to findout distribution of features"
      ]
    },
    {
      "cell_type": "code",
      "metadata": {
        "id": "N7v7w-0ux07L",
        "colab_type": "code",
        "colab": {
          "base_uri": "https://localhost:8080/",
          "height": 299
        },
        "outputId": "53578be2-911d-4985-c2bc-6388f5b6d3e8"
      },
      "source": [
        "#Plot the first four features\n",
        "viz = df[['price',\n",
        " 'bedrooms',\n",
        " 'bathrooms',\n",
        " 'floors']]\n",
        "\n",
        "viz.hist()\n",
        "plt.figure(figsize=(20, 20))\n",
        "plt.show()"
      ],
      "execution_count": 123,
      "outputs": [
        {
          "output_type": "display_data",
          "data": {
            "image/png": "[encoded data removed]",
            "text/plain": [
              "<Figure size 432x288 with 4 Axes>"
            ]
          },
          "metadata": {
            "tags": []
          }
        },
        {
          "output_type": "display_data",
          "data": {
            "text/plain": [
              "<Figure size 1440x1440 with 0 Axes>"
            ]
          },
          "metadata": {
            "tags": []
          }
        }
      ]
    },
    {
      "cell_type": "code",
      "metadata": {
        "id": "nT8_xG9LxkWo",
        "colab_type": "code",
        "colab": {
          "base_uri": "https://localhost:8080/",
          "height": 299
        },
        "outputId": "1aaccc3f-2ee6-49e6-c429-e0e31d0c19ab"
      },
      "source": [
        "#Plot the the next four features\n",
        "viz = df[['waterfront',\n",
        " 'view',\n",
        " 'condition',\n",
        " 'grade',]]\n",
        "\n",
        "viz.hist()\n",
        "plt.figure(figsize=(20, 20))\n",
        "plt.show()"
      ],
      "execution_count": 124,
      "outputs": [
        {
          "output_type": "display_data",
          "data": {
            "image/png": "[encoded data removed]",
            "text/plain": [
              "<Figure size 432x288 with 4 Axes>"
            ]
          },
          "metadata": {
            "tags": []
          }
        },
        {
          "output_type": "display_data",
          "data": {
            "text/plain": [
              "<Figure size 1440x1440 with 0 Axes>"
            ]
          },
          "metadata": {
            "tags": []
          }
        }
      ]
    },
    {
      "cell_type": "code",
      "metadata": {
        "id": "z15eCyBVzao2",
        "colab_type": "code",
        "colab": {
          "base_uri": "https://localhost:8080/",
          "height": 299
        },
        "outputId": "c2fc5163-e451-4fff-f5b1-ded085b20e7a"
      },
      "source": [
        "#Plot the the next three features\n",
        "viz = df[[\n",
        " 'yr_built',\n",
        " 'yr_renovated', 'zipcode',]]\n",
        "\n",
        "viz.hist()\n",
        "plt.figure(figsize=(20, 20))\n",
        "plt.show()"
      ],
      "execution_count": 125,
      "outputs": [
        {
          "output_type": "display_data",
          "data": {
            "image/png": "[encoded data removed]",
            "text/plain": [
              "<Figure size 432x288 with 4 Axes>"
            ]
          },
          "metadata": {
            "tags": []
          }
        },
        {
          "output_type": "display_data",
          "data": {
            "text/plain": [
              "<Figure size 1440x1440 with 0 Axes>"
            ]
          },
          "metadata": {
            "tags": []
          }
        }
      ]
    },
    {
      "cell_type": "code",
      "metadata": {
        "id": "aTO6kychzgVo",
        "colab_type": "code",
        "colab": {
          "base_uri": "https://localhost:8080/",
          "height": 299
        },
        "outputId": "2df7df5e-3007-455d-8d45-e17e07699ce4"
      },
      "source": [
        "#Plot the the last two features\n",
        "viz = df[[\n",
        " 'sqft_living15',\n",
        " 'sqft_lot15',]]\n",
        "\n",
        "viz.hist()\n",
        "plt.figure(figsize=(20, 20))\n",
        "plt.show()"
      ],
      "execution_count": 126,
      "outputs": [
        {
          "output_type": "display_data",
          "data": {
            "image/png": "[encoded data removed]",
            "text/plain": [
              "<Figure size 432x288 with 2 Axes>"
            ]
          },
          "metadata": {
            "tags": []
          }
        },
        {
          "output_type": "display_data",
          "data": {
            "text/plain": [
              "<Figure size 1440x1440 with 0 Axes>"
            ]
          },
          "metadata": {
            "tags": []
          }
        }
      ]
    },
    {
      "cell_type": "markdown",
      "metadata": {
        "id": "6-IhaVXsxOz-",
        "colab_type": "text"
      },
      "source": [
        "Finding out the relationship between the dependent feature(price) and the independent features"
      ]
    },
    {
      "cell_type": "code",
      "metadata": {
        "id": "qRzSb5efxN7q",
        "colab_type": "code",
        "colab": {
          "base_uri": "https://localhost:8080/",
          "height": 283
        },
        "outputId": "d2c31da2-6ae0-42a8-f87c-6d1561ff9cc7"
      },
      "source": [
        "# Price vs bedrooms\n",
        "plt.scatter(df.bedrooms, df.price, color=\"red\")\n",
        "plt.xlabel(\"Bedrooms\")\n",
        "plt.ylabel(\"Price\")\n",
        "plt.show()"
      ],
      "execution_count": 127,
      "outputs": [
        {
          "output_type": "display_data",
          "data": {
            "image/png": "[encoded data removed]",
            "text/plain": [
              "<Figure size 432x288 with 1 Axes>"
            ]
          },
          "metadata": {
            "tags": []
          }
        }
      ]
    },
    {
      "cell_type": "code",
      "metadata": {
        "id": "Xz6gAfr5z500",
        "colab_type": "code",
        "colab": {
          "base_uri": "https://localhost:8080/",
          "height": 283
        },
        "outputId": "d2f8e8aa-4703-4c73-ef11-9c621a89c329"
      },
      "source": [
        "# Price vs bathrooms\n",
        "plt.scatter(df.bathrooms, df.price, color=\"red\")\n",
        "plt.xlabel(\"Bathrooms\")\n",
        "plt.ylabel(\"Price\")\n",
        "plt.show()"
      ],
      "execution_count": 128,
      "outputs": [
        {
          "output_type": "display_data",
          "data": {
            "image/png": "[encoded data removed]",
            "text/plain": [
              "<Figure size 432x288 with 1 Axes>"
            ]
          },
          "metadata": {
            "tags": []
          }
        }
      ]
    },
    {
      "cell_type": "code",
      "metadata": {
        "id": "8GuFCEVmz_Yw",
        "colab_type": "code",
        "colab": {
          "base_uri": "https://localhost:8080/",
          "height": 283
        },
        "outputId": "e448dcdd-5b6a-43f8-e74f-1ea7dc72868d"
      },
      "source": [
        "# Price vs floors\n",
        "plt.scatter(df.floors, df.price, color=\"red\")\n",
        "plt.xlabel(\"Floors\")\n",
        "plt.ylabel(\"Price\")\n",
        "plt.show()"
      ],
      "execution_count": 129,
      "outputs": [
        {
          "output_type": "display_data",
          "data": {
            "image/png": "[encoded data removed]",
            "text/plain": [
              "<Figure size 432x288 with 1 Axes>"
            ]
          },
          "metadata": {
            "tags": []
          }
        }
      ]
    },
    {
      "cell_type": "code",
      "metadata": {
        "id": "BZG77yC20BHt",
        "colab_type": "code",
        "colab": {
          "base_uri": "https://localhost:8080/",
          "height": 283
        },
        "outputId": "c61de248-d072-46d1-d648-0d78838bfbfa"
      },
      "source": [
        "# Price vs waterfront\n",
        "plt.scatter(df.waterfront, df.price, color=\"red\")\n",
        "plt.xlabel(\"Waterfront\")\n",
        "plt.ylabel(\"Price\")\n",
        "plt.show()"
      ],
      "execution_count": 130,
      "outputs": [
        {
          "output_type": "display_data",
          "data": {
            "image/png": "[encoded data removed]",
            "text/plain": [
              "<Figure size 432x288 with 1 Axes>"
            ]
          },
          "metadata": {
            "tags": []
          }
        }
      ]
    },
    {
      "cell_type": "code",
      "metadata": {
        "id": "nC0tyrRY0DnS",
        "colab_type": "code",
        "colab": {
          "base_uri": "https://localhost:8080/",
          "height": 283
        },
        "outputId": "cbcdd51b-17a9-405b-bb4e-37fe37618988"
      },
      "source": [
        "# Price vs view\n",
        "plt.scatter(df.view, df.price, color=\"red\")\n",
        "plt.xlabel(\"View\")\n",
        "plt.ylabel(\"Price\")\n",
        "plt.show()"
      ],
      "execution_count": 131,
      "outputs": [
        {
          "output_type": "display_data",
          "data": {
            "image/png": "[encoded data removed]",
            "text/plain": [
              "<Figure size 432x288 with 1 Axes>"
            ]
          },
          "metadata": {
            "tags": []
          }
        }
      ]
    },
    {
      "cell_type": "code",
      "metadata": {
        "id": "4U_96UFI0Ex3",
        "colab_type": "code",
        "colab": {
          "base_uri": "https://localhost:8080/",
          "height": 283
        },
        "outputId": "0717cee7-5520-42a9-8295-26cce465b793"
      },
      "source": [
        "# Price vs condition\n",
        "plt.scatter(df.condition, df.price, color=\"red\")\n",
        "plt.xlabel(\"Condition\")\n",
        "plt.ylabel(\"Price\")\n",
        "plt.show()"
      ],
      "execution_count": 132,
      "outputs": [
        {
          "output_type": "display_data",
          "data": {
            "image/png": "[encoded data removed]",
            "text/plain": [
              "<Figure size 432x288 with 1 Axes>"
            ]
          },
          "metadata": {
            "tags": []
          }
        }
      ]
    },
    {
      "cell_type": "code",
      "metadata": {
        "id": "Xd8PjCNe0nkL",
        "colab_type": "code",
        "colab": {
          "base_uri": "https://localhost:8080/",
          "height": 283
        },
        "outputId": "d6ee2296-1f0e-4671-d9fe-90c4015b9ac2"
      },
      "source": [
        "# Price vs grade\n",
        "plt.scatter(df.grade, df.price, color=\"red\")\n",
        "plt.xlabel(\"Grade\")\n",
        "plt.ylabel(\"Price\")\n",
        "plt.show()"
      ],
      "execution_count": 133,
      "outputs": [
        {
          "output_type": "display_data",
          "data": {
            "image/png": "[encoded data removed]",
            "text/plain": [
              "<Figure size 432x288 with 1 Axes>"
            ]
          },
          "metadata": {
            "tags": []
          }
        }
      ]
    },
    {
      "cell_type": "code",
      "metadata": {
        "id": "M1ovuXXg0pEk",
        "colab_type": "code",
        "colab": {
          "base_uri": "https://localhost:8080/",
          "height": 283
        },
        "outputId": "3567fe0c-fab2-4821-823b-ef6980052792"
      },
      "source": [
        "# Price vs yr_built\n",
        "plt.scatter(df.yr_built, df.price, color=\"red\")\n",
        "plt.xlabel(\"Year Built\")\n",
        "plt.ylabel(\"Price\")\n",
        "plt.show()"
      ],
      "execution_count": 134,
      "outputs": [
        {
          "output_type": "display_data",
          "data": {
            "image/png": "[encoded data removed]",
            "text/plain": [
              "<Figure size 432x288 with 1 Axes>"
            ]
          },
          "metadata": {
            "tags": []
          }
        }
      ]
    },
    {
      "cell_type": "code",
      "metadata": {
        "id": "MOZz9RXL0rJk",
        "colab_type": "code",
        "colab": {
          "base_uri": "https://localhost:8080/",
          "height": 283
        },
        "outputId": "f6929ae0-7426-43da-b137-2d4aab79b26b"
      },
      "source": [
        "# Price vs yr_renovated\n",
        "plt.scatter(df.yr_renovated, df.price, color=\"red\")\n",
        "plt.xlabel(\"Year Renovated\")\n",
        "plt.ylabel(\"Price\")\n",
        "plt.show()"
      ],
      "execution_count": 135,
      "outputs": [
        {
          "output_type": "display_data",
          "data": {
            "image/png": "[encoded data removed]",
            "text/plain": [
              "<Figure size 432x288 with 1 Axes>"
            ]
          },
          "metadata": {
            "tags": []
          }
        }
      ]
    },
    {
      "cell_type": "code",
      "metadata": {
        "id": "W6QtyvwV1qsV",
        "colab_type": "code",
        "colab": {
          "base_uri": "https://localhost:8080/",
          "height": 283
        },
        "outputId": "038dfede-7097-453f-d608-8eb3d6a8b6c4"
      },
      "source": [
        "# Price vs zipcode\n",
        "plt.scatter(df.zipcode, df.price, color=\"red\")\n",
        "plt.xlabel(\"Zipcode\")\n",
        "plt.ylabel(\"Price\")\n",
        "plt.show()"
      ],
      "execution_count": 136,
      "outputs": [
        {
          "output_type": "display_data",
          "data": {
            "image/png": "[encoded data removed]",
            "text/plain": [
              "<Figure size 432x288 with 1 Axes>"
            ]
          },
          "metadata": {
            "tags": []
          }
        }
      ]
    },
    {
      "cell_type": "code",
      "metadata": {
        "id": "udbmHPMz1tK8",
        "colab_type": "code",
        "colab": {
          "base_uri": "https://localhost:8080/",
          "height": 283
        },
        "outputId": "c77422b5-9f9a-4549-dc3b-4cdc057972eb"
      },
      "source": [
        "# Price vs sqft_living15\n",
        "plt.scatter(df.sqft_living15, df.price, color=\"red\")\n",
        "plt.xlabel(\"Living Area\")\n",
        "plt.ylabel(\"Price\")\n",
        "plt.show()"
      ],
      "execution_count": 137,
      "outputs": [
        {
          "output_type": "display_data",
          "data": {
            "image/png": "[encoded data removed]",
            "text/plain": [
              "<Figure size 432x288 with 1 Axes>"
            ]
          },
          "metadata": {
            "tags": []
          }
        }
      ]
    },
    {
      "cell_type": "code",
      "metadata": {
        "id": "Xc79of1E1wH5",
        "colab_type": "code",
        "colab": {
          "base_uri": "https://localhost:8080/",
          "height": 283
        },
        "outputId": "a11db29f-296c-4479-bacd-7737907fa72b"
      },
      "source": [
        "# Price vs sqft_lot15\n",
        "plt.scatter(df.sqft_lot15, df.price, color=\"red\")\n",
        "plt.xlabel(\"Total Area\")\n",
        "plt.ylabel(\"Price\")\n",
        "plt.show()"
      ],
      "execution_count": 138,
      "outputs": [
        {
          "output_type": "display_data",
          "data": {
            "image/png": "[encoded data removed]",
            "text/plain": [
              "<Figure size 432x288 with 1 Axes>"
            ]
          },
          "metadata": {
            "tags": []
          }
        }
      ]
    },
    {
      "cell_type": "markdown",
      "metadata": {
        "id": "vgj9kHxaxepe",
        "colab_type": "text"
      },
      "source": [
        ""
      ]
    },
    {
      "cell_type": "markdown",
      "metadata": {
        "id": "s-5UEM0Z36oC",
        "colab_type": "text"
      },
      "source": [
        "## Remove Features based upon visualization"
      ]
    },
    {
      "cell_type": "markdown",
      "metadata": {
        "id": "E8uzNyS84B32",
        "colab_type": "text"
      },
      "source": [
        "Six features will be removed with because after visualizing it with price they are not decently enough correlated. Namely:\n",
        "\n",
        "\n",
        "1. zipcode\n",
        "2. yr_renovated\n",
        "3. sqft_lot15\n",
        "4. view\n",
        "5. waterfront\n",
        "6. floors\n",
        "\n",
        "\n"
      ]
    },
    {
      "cell_type": "code",
      "metadata": {
        "id": "VUHBkFZ_4BhV",
        "colab_type": "code",
        "colab": {
          "base_uri": "https://localhost:8080/",
          "height": 110
        },
        "outputId": "b5c1e0b0-9fae-4f4a-cb83-99fb63bd5d19"
      },
      "source": [
        "df.drop(columns=[\"zipcode\", \"yr_renovated\", \"view\", \"waterfront\", \n",
        "                 \"sqft_lot15\", \"floors\"], inplace=True)\n",
        "df.head(2)"
      ],
      "execution_count": 139,
      "outputs": [
        {
          "output_type": "execute_result",
          "data": {
            "text/html": [
              "<div>\n",
              "<style scoped>\n",
              "    .dataframe tbody tr th:only-of-type {\n",
              "        vertical-align: middle;\n",
              "    }\n",
              "\n",
              "    .dataframe tbody tr th {\n",
              "        vertical-align: top;\n",
              "    }\n",
              "\n",
              "    .dataframe thead th {\n",
              "        text-align: right;\n",
              "    }\n",
              "</style>\n",
              "<table border=\"1\" class=\"dataframe\">\n",
              "  <thead>\n",
              "    <tr style=\"text-align: right;\">\n",
              "      <th></th>\n",
              "      <th>price</th>\n",
              "      <th>bedrooms</th>\n",
              "      <th>bathrooms</th>\n",
              "      <th>condition</th>\n",
              "      <th>grade</th>\n",
              "      <th>yr_built</th>\n",
              "      <th>sqft_living15</th>\n",
              "    </tr>\n",
              "  </thead>\n",
              "  <tbody>\n",
              "    <tr>\n",
              "      <th>0</th>\n",
              "      <td>221900.0</td>\n",
              "      <td>3</td>\n",
              "      <td>1.00</td>\n",
              "      <td>3</td>\n",
              "      <td>7</td>\n",
              "      <td>1955</td>\n",
              "      <td>1340.0</td>\n",
              "    </tr>\n",
              "    <tr>\n",
              "      <th>1</th>\n",
              "      <td>538000.0</td>\n",
              "      <td>3</td>\n",
              "      <td>2.25</td>\n",
              "      <td>3</td>\n",
              "      <td>7</td>\n",
              "      <td>1951</td>\n",
              "      <td>1690.0</td>\n",
              "    </tr>\n",
              "  </tbody>\n",
              "</table>\n",
              "</div>"
            ],
            "text/plain": [
              "      price  bedrooms  bathrooms  condition  grade  yr_built  sqft_living15\n",
              "0  221900.0         3       1.00          3      7      1955         1340.0\n",
              "1  538000.0         3       2.25          3      7      1951         1690.0"
            ]
          },
          "metadata": {
            "tags": []
          },
          "execution_count": 139
        }
      ]
    },
    {
      "cell_type": "markdown",
      "metadata": {
        "id": "qjmxql-c6OH0",
        "colab_type": "text"
      },
      "source": [
        "## Normalize Data and train tes split"
      ]
    },
    {
      "cell_type": "markdown",
      "metadata": {
        "id": "nbQBH3366ndi",
        "colab_type": "text"
      },
      "source": [
        "For better result all features will be normalized"
      ]
    },
    {
      "cell_type": "code",
      "metadata": {
        "id": "7CI1Or2E-nw4",
        "colab_type": "code",
        "colab": {
          "base_uri": "https://localhost:8080/",
          "height": 139
        },
        "outputId": "adb7f4f6-3265-4ea3-b356-1ab40a9012fc"
      },
      "source": [
        "df.columns.tolist()"
      ],
      "execution_count": 143,
      "outputs": [
        {
          "output_type": "execute_result",
          "data": {
            "text/plain": [
              "['price',\n",
              " 'bedrooms',\n",
              " 'bathrooms',\n",
              " 'condition',\n",
              " 'grade',\n",
              " 'yr_built',\n",
              " 'sqft_living15']"
            ]
          },
          "metadata": {
            "tags": []
          },
          "execution_count": 143
        }
      ]
    },
    {
      "cell_type": "code",
      "metadata": {
        "id": "SRP7RGI-6QnU",
        "colab_type": "code",
        "colab": {}
      },
      "source": [
        "from sklearn import preprocessing\n",
        "\n",
        "msk = np.random.rand(len(X)) < 0.8\n",
        "train = df[msk]\n",
        "test = df[~msk]\n",
        "\n",
        "train_x = np.asarray(train[['bedrooms',\n",
        " 'bathrooms',\n",
        " 'condition',\n",
        " 'grade',\n",
        " 'yr_built',\n",
        " 'sqft_living15']])\n",
        "train_y = np.asarray(train[[\"price\"]])\n",
        "\n",
        "test_x = np.asarray(train[['bedrooms',\n",
        " 'bathrooms',\n",
        " 'condition',\n",
        " 'grade',\n",
        " 'yr_built',\n",
        " 'sqft_living15']])\n",
        "test_y = np.asarray(train[[\"price\"]])\n",
        "\n",
        "train_x = preprocessing.StandardScaler().fit(train_x).transform(train_x)\n",
        "train_y = preprocessing.StandardScaler().fit(train_y).transform(train_y)\n",
        "\n",
        "test_x = preprocessing.StandardScaler().fit(test_x).transform(test_x)\n",
        "test_y = preprocessing.StandardScaler().fit(test_y).transform(test_y)"
      ],
      "execution_count": 0,
      "outputs": []
    },
    {
      "cell_type": "markdown",
      "metadata": {
        "id": "ti1lupPktU0q",
        "colab_type": "text"
      },
      "source": [
        "# Train Model"
      ]
    },
    {
      "cell_type": "markdown",
      "metadata": {
        "id": "Qv8OhRH89SZm",
        "colab_type": "text"
      },
      "source": [
        "## Build model"
      ]
    },
    {
      "cell_type": "markdown",
      "metadata": {
        "id": "qG6YiRtJ5pim",
        "colab_type": "text"
      },
      "source": [
        "One type of model will be used in this project namely:\n",
        "\n",
        "\n",
        "1.  Linear"
      ]
    },
    {
      "cell_type": "markdown",
      "metadata": {
        "id": "PGJs8Nur670j",
        "colab_type": "text"
      },
      "source": [
        ""
      ]
    },
    {
      "cell_type": "code",
      "metadata": {
        "id": "bs8si3Ds5oH-",
        "colab_type": "code",
        "colab": {
          "base_uri": "https://localhost:8080/",
          "height": 52
        },
        "outputId": "e9dea5de-677e-4567-ffbc-8196244beb92"
      },
      "source": [
        "#linear Model\n",
        "from sklearn import linear_model\n",
        "lin_reg = linear_model.LinearRegression()\n",
        "lin_reg.fit(train_x, train_y)\n",
        "print(\"Coefficients: \", lin_reg.coef_)\n",
        "print(\"Intercept: \", lin_reg.intercept_)"
      ],
      "execution_count": 145,
      "outputs": [
        {
          "output_type": "stream",
          "text": [
            "Coefficients:  [[-0.06790101  0.255702    0.0402162   0.47034168 -0.34510428  0.24800841]]\n",
            "Intercept:  [1.12176278e-15]\n"
          ],
          "name": "stdout"
        }
      ]
    },
    {
      "cell_type": "markdown",
      "metadata": {
        "id": "nI5p0I6mtZE5",
        "colab_type": "text"
      },
      "source": [
        "# Evaluate Model"
      ]
    },
    {
      "cell_type": "markdown",
      "metadata": {
        "id": "tSf_CBTg8GDR",
        "colab_type": "text"
      },
      "source": [
        "The Models will be evaluated two metrics with the following reasons :\n",
        "\n",
        "\n",
        "1.   Mean Squared Error (MSE) : Find out how large the error of the prediction. Emphazing on large errors\n",
        "2.   R2-Score = Find out how well fitted the created prediction line with the data\n",
        "\n"
      ]
    },
    {
      "cell_type": "code",
      "metadata": {
        "id": "SDhLnbOD8B1T",
        "colab_type": "code",
        "colab": {
          "base_uri": "https://localhost:8080/",
          "height": 52
        },
        "outputId": "78c40373-190c-4ae0-a7d8-f64d3b9ef95a"
      },
      "source": [
        "from sklearn.metrics import r2_score\n",
        "\n",
        "yhat = lin_reg.predict(test_x)\n",
        "print(\"Mean Absolute Error : %.2f\" % np.mean((yhat - test_y) ** 2))\n",
        "print(r2_score(yhat, test_y))"
      ],
      "execution_count": 146,
      "outputs": [
        {
          "output_type": "stream",
          "text": [
            "Mean Absolute Error : 0.43\n",
            "0.23376392492312825\n"
          ],
          "name": "stdout"
        }
      ]
    }
  ]
}